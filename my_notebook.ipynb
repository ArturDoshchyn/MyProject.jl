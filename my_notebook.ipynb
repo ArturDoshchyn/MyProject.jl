{
 "cells": [
  {
   "cell_type": "code",
   "execution_count": 1,
   "id": "a2bb26ec-ea8c-4dd9-856c-6a1d1d411f17",
   "metadata": {},
   "outputs": [],
   "source": [
    "using Revise\n",
    "using MyProject"
   ]
  },
  {
   "cell_type": "code",
   "execution_count": 2,
   "id": "733e4710-08c3-40df-84f1-d14cbce78eba",
   "metadata": {},
   "outputs": [
    {
     "name": "stdout",
     "output_type": "stream",
     "text": [
      "Modified foo definition\n"
     ]
    },
    {
     "data": {
      "text/plain": [
       "6.913439522008146e-18"
      ]
     },
     "execution_count": 2,
     "metadata": {},
     "output_type": "execute_result"
    }
   ],
   "source": [
    "foo(0)"
   ]
  },
  {
   "cell_type": "markdown",
   "id": "70472795-ff4b-4410-b786-c39c22499c50",
   "metadata": {},
   "source": [
    "Edit the definition of foo in the VSCode"
   ]
  },
  {
   "cell_type": "code",
   "execution_count": 3,
   "id": "4b1a44b2-3d16-47e6-a202-8660188ae617",
   "metadata": {},
   "outputs": [
    {
     "name": "stdout",
     "output_type": "stream",
     "text": [
      "Modified foo definition again\n"
     ]
    },
    {
     "data": {
      "text/plain": [
       "6.913439522008146e-18"
      ]
     },
     "execution_count": 3,
     "metadata": {},
     "output_type": "execute_result"
    }
   ],
   "source": [
    "foo(0)"
   ]
  },
  {
   "cell_type": "code",
   "execution_count": null,
   "id": "afee86eb-97c4-4e03-88fa-1b0398367659",
   "metadata": {},
   "outputs": [],
   "source": []
  }
 ],
 "metadata": {
  "kernelspec": {
   "display_name": "Julia 1.7.3",
   "language": "julia",
   "name": "julia-1.7"
  },
  "language_info": {
   "file_extension": ".jl",
   "mimetype": "application/julia",
   "name": "julia",
   "version": "1.7.3"
  }
 },
 "nbformat": 4,
 "nbformat_minor": 5
}
